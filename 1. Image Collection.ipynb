{
 "cells": [
  {
   "cell_type": "markdown",
   "metadata": {},
   "source": [
    "# 1. Import Dependencies"
   ]
  },
  {
   "cell_type": "code",
   "execution_count": 1,
   "metadata": {},
   "outputs": [
    {
     "name": "stdout",
     "output_type": "stream",
     "text": [
      "Collecting opencv-python\n",
      "  Using cached opencv_python-4.7.0.68-cp37-abi3-win_amd64.whl (38.2 MB)\n",
      "Collecting numpy>=1.19.3\n",
      "  Using cached numpy-1.24.1-cp39-cp39-win_amd64.whl (14.9 MB)\n",
      "Installing collected packages: numpy, opencv-python\n",
      "Successfully installed numpy-1.24.1 opencv-python-4.7.0.68\n"
     ]
    }
   ],
   "source": [
    "!pip install opencv-python"
   ]
  },
  {
   "cell_type": "code",
   "execution_count": 1,
   "metadata": {},
   "outputs": [],
   "source": [
    "# Import opencv\n",
    "import cv2 \n",
    "\n",
    "# Import uuid\n",
    "import uuid\n",
    "\n",
    "# Import Operating System\n",
    "import os\n",
    "\n",
    "# Import time\n",
    "import time"
   ]
  },
  {
   "cell_type": "markdown",
   "metadata": {},
   "source": [
    "# 2. Define Images to Collect"
   ]
  },
  {
   "cell_type": "code",
   "execution_count": 2,
   "metadata": {},
   "outputs": [],
   "source": [
    "labels = ['left', 'right', 'up', 'down']\n",
    "number_imgs = 25"
   ]
  },
  {
   "cell_type": "markdown",
   "metadata": {},
   "source": [
    "# 3. Setup Folders "
   ]
  },
  {
   "cell_type": "code",
   "execution_count": 4,
   "metadata": {},
   "outputs": [],
   "source": [
    "IMAGES_PATH = os.path.join('Tensorflow', 'workspace', 'images', 'collectedimages')"
   ]
  },
  {
   "cell_type": "code",
   "execution_count": 5,
   "metadata": {},
   "outputs": [],
   "source": [
    "if not os.path.exists(IMAGES_PATH):\n",
    "    if os.name == 'posix':\n",
    "        !mkdir -p {IMAGES_PATH}\n",
    "    if os.name == 'nt':\n",
    "         !mkdir {IMAGES_PATH}\n",
    "for label in labels:\n",
    "    path = os.path.join(IMAGES_PATH, label)\n",
    "    if not os.path.exists(path):\n",
    "        !mkdir {path}"
   ]
  },
  {
   "cell_type": "markdown",
   "metadata": {},
   "source": [
    "# 4. Capture Images"
   ]
  },
  {
   "cell_type": "code",
   "execution_count": 6,
   "metadata": {},
   "outputs": [
    {
     "name": "stdout",
     "output_type": "stream",
     "text": [
      "Collecting images for left\n",
      "Collecting image 0\n",
      "Collecting image 1\n",
      "Collecting image 2\n",
      "Collecting image 3\n",
      "Collecting image 4\n",
      "Collecting image 5\n",
      "Collecting image 6\n",
      "Collecting image 7\n",
      "Collecting image 8\n",
      "Collecting image 9\n",
      "Collecting image 10\n",
      "Collecting image 11\n",
      "Collecting image 12\n",
      "Collecting image 13\n",
      "Collecting image 14\n",
      "Collecting image 15\n",
      "Collecting image 16\n",
      "Collecting image 17\n",
      "Collecting image 18\n",
      "Collecting image 19\n",
      "Collecting image 20\n",
      "Collecting image 21\n",
      "Collecting image 22\n",
      "Collecting image 23\n",
      "Collecting image 24\n",
      "Collecting images for right\n",
      "Collecting image 0\n",
      "Collecting image 1\n",
      "Collecting image 2\n",
      "Collecting image 3\n",
      "Collecting image 4\n",
      "Collecting image 5\n",
      "Collecting image 6\n",
      "Collecting image 7\n",
      "Collecting image 8\n",
      "Collecting image 9\n",
      "Collecting image 10\n",
      "Collecting image 11\n",
      "Collecting image 12\n",
      "Collecting image 13\n",
      "Collecting image 14\n",
      "Collecting image 15\n",
      "Collecting image 16\n",
      "Collecting image 17\n",
      "Collecting image 18\n",
      "Collecting image 19\n",
      "Collecting image 20\n",
      "Collecting image 21\n",
      "Collecting image 22\n",
      "Collecting image 23\n",
      "Collecting image 24\n",
      "Collecting images for up\n",
      "Collecting image 0\n",
      "Collecting image 1\n",
      "Collecting image 2\n",
      "Collecting image 3\n",
      "Collecting image 4\n",
      "Collecting image 5\n",
      "Collecting image 6\n",
      "Collecting image 7\n",
      "Collecting image 8\n",
      "Collecting image 9\n",
      "Collecting image 10\n",
      "Collecting image 11\n",
      "Collecting image 12\n",
      "Collecting image 13\n",
      "Collecting image 14\n",
      "Collecting image 15\n",
      "Collecting image 16\n",
      "Collecting image 17\n",
      "Collecting image 18\n",
      "Collecting image 19\n",
      "Collecting image 20\n",
      "Collecting image 21\n",
      "Collecting image 22\n",
      "Collecting image 23\n",
      "Collecting image 24\n",
      "Collecting images for down\n",
      "Collecting image 0\n",
      "Collecting image 1\n",
      "Collecting image 2\n",
      "Collecting image 3\n",
      "Collecting image 4\n",
      "Collecting image 5\n",
      "Collecting image 6\n",
      "Collecting image 7\n",
      "Collecting image 8\n",
      "Collecting image 9\n",
      "Collecting image 10\n",
      "Collecting image 11\n",
      "Collecting image 12\n",
      "Collecting image 13\n",
      "Collecting image 14\n",
      "Collecting image 15\n",
      "Collecting image 16\n",
      "Collecting image 17\n",
      "Collecting image 18\n",
      "Collecting image 19\n",
      "Collecting image 20\n",
      "Collecting image 21\n",
      "Collecting image 22\n",
      "Collecting image 23\n",
      "Collecting image 24\n"
     ]
    }
   ],
   "source": [
    "for label in labels:\n",
    "    cap = cv2.VideoCapture(0)\n",
    "    print('Collecting images for {}'.format(label))\n",
    "    time.sleep(15)\n",
    "    for imgnum in range(number_imgs):\n",
    "        print('Collecting image {}'.format(imgnum))\n",
    "        ret, frame = cap.read()\n",
    "        imgname = os.path.join(IMAGES_PATH,label,label+'.'+'{}.jpg'.format(str(uuid.uuid1())))\n",
    "        cv2.imwrite(imgname, frame)\n",
    "        cv2.imshow('frame', frame)\n",
    "        time.sleep(2)\n",
    "\n",
    "        if cv2.waitKey(1) & 0xFF == ord('q'):\n",
    "            break\n",
    "cap.release()\n",
    "cv2.destroyAllWindows()"
   ]
  },
  {
   "cell_type": "markdown",
   "metadata": {},
   "source": [
    "# 5. Image Labelling"
   ]
  },
  {
   "cell_type": "code",
   "execution_count": 7,
   "metadata": {},
   "outputs": [
    {
     "name": "stdout",
     "output_type": "stream",
     "text": [
      "Collecting pyqt5\n",
      "  Using cached PyQt5-5.15.7-cp37-abi3-win_amd64.whl (6.8 MB)\n",
      "Collecting lxml\n",
      "  Using cached lxml-4.9.2-cp39-cp39-win_amd64.whl (3.9 MB)\n",
      "Collecting PyQt5-sip<13,>=12.11\n",
      "  Using cached PyQt5_sip-12.11.0-cp39-cp39-win_amd64.whl (78 kB)\n",
      "Collecting PyQt5-Qt5>=5.15.0\n",
      "  Using cached PyQt5_Qt5-5.15.2-py3-none-win_amd64.whl (50.1 MB)\n",
      "Installing collected packages: PyQt5-Qt5, PyQt5-sip, lxml, pyqt5\n",
      "Successfully installed PyQt5-Qt5-5.15.2 PyQt5-sip-12.11.0 lxml-4.9.2 pyqt5-5.15.7\n"
     ]
    }
   ],
   "source": [
    "!pip install --upgrade pyqt5 lxml"
   ]
  },
  {
   "cell_type": "code",
   "execution_count": 8,
   "metadata": {},
   "outputs": [],
   "source": [
    "LABELIMG_PATH = os.path.join('Tensorflow', 'labelimg')"
   ]
  },
  {
   "cell_type": "code",
   "execution_count": 9,
   "metadata": {},
   "outputs": [
    {
     "name": "stderr",
     "output_type": "stream",
     "text": [
      "Cloning into 'Tensorflow\\labelimg'...\n"
     ]
    }
   ],
   "source": [
    "if not os.path.exists(LABELIMG_PATH):\n",
    "    !mkdir {LABELIMG_PATH}\n",
    "    !git clone https://github.com/tzutalin/labelImg {LABELIMG_PATH}"
   ]
  },
  {
   "cell_type": "code",
   "execution_count": 10,
   "metadata": {},
   "outputs": [],
   "source": [
    "if os.name == 'posix':\n",
    "    !make qt5py3\n",
    "if os.name =='nt':\n",
    "    !cd {LABELIMG_PATH} && pyrcc5 -o libs/resources.py resources.qrc"
   ]
  },
  {
   "cell_type": "code",
   "execution_count": 11,
   "metadata": {},
   "outputs": [
    {
     "name": "stdout",
     "output_type": "stream",
     "text": [
      "Image:C:\\Users\\VIVEK\\OneDrive\\Desktop\\realtimesign\\TFODCourse\\Tensorflow\\workspace\\images\\collectedimages\\down\\down.0adab4f3-9416-11ed-be32-546cebcd8a24.jpg -> Annotation:C:/Users/VIVEK/OneDrive/Desktop/realtimesign/TFODCourse/Tensorflow/workspace/images/collectedimages/down\\down.0adab4f3-9416-11ed-be32-546cebcd8a24.xml\n",
      "Image:C:\\Users\\VIVEK\\OneDrive\\Desktop\\realtimesign\\TFODCourse\\Tensorflow\\workspace\\images\\collectedimages\\down\\down.0c109878-9416-11ed-be49-546cebcd8a24.jpg -> Annotation:C:/Users/VIVEK/OneDrive/Desktop/realtimesign/TFODCourse/Tensorflow/workspace/images/collectedimages/down\\down.0c109878-9416-11ed-be49-546cebcd8a24.xml\n",
      "Image:C:\\Users\\VIVEK\\OneDrive\\Desktop\\realtimesign\\TFODCourse\\Tensorflow\\workspace\\images\\collectedimages\\down\\down.0d469f6a-9416-11ed-b5f9-546cebcd8a24.jpg -> Annotation:C:/Users/VIVEK/OneDrive/Desktop/realtimesign/TFODCourse/Tensorflow/workspace/images/collectedimages/down\\down.0d469f6a-9416-11ed-b5f9-546cebcd8a24.xml\n",
      "Image:C:\\Users\\VIVEK\\OneDrive\\Desktop\\realtimesign\\TFODCourse\\Tensorflow\\workspace\\images\\collectedimages\\down\\down.0e7b461f-9416-11ed-8175-546cebcd8a24.jpg -> Annotation:C:/Users/VIVEK/OneDrive/Desktop/realtimesign/TFODCourse/Tensorflow/workspace/images/collectedimages/down\\down.0e7b461f-9416-11ed-8175-546cebcd8a24.xml\n",
      "Image:C:\\Users\\VIVEK\\OneDrive\\Desktop\\realtimesign\\TFODCourse\\Tensorflow\\workspace\\images\\collectedimages\\down\\down.0fb03d40-9416-11ed-9087-546cebcd8a24.jpg -> Annotation:C:/Users/VIVEK/OneDrive/Desktop/realtimesign/TFODCourse/Tensorflow/workspace/images/collectedimages/down\\down.0fb03d40-9416-11ed-9087-546cebcd8a24.xml\n",
      "Image:C:\\Users\\VIVEK\\OneDrive\\Desktop\\realtimesign\\TFODCourse\\Tensorflow\\workspace\\images\\collectedimages\\down\\down.1a9e5832-9416-11ed-bf06-546cebcd8a24.jpg -> Annotation:C:/Users/VIVEK/OneDrive/Desktop/realtimesign/TFODCourse/Tensorflow/workspace/images/collectedimages/down\\down.1a9e5832-9416-11ed-bf06-546cebcd8a24.xml\n",
      "Image:C:\\Users\\VIVEK\\OneDrive\\Desktop\\realtimesign\\TFODCourse\\Tensorflow\\workspace\\images\\collectedimages\\down\\down.04c9e48c-9416-11ed-bf0f-546cebcd8a24.jpg -> Annotation:C:/Users/VIVEK/OneDrive/Desktop/realtimesign/TFODCourse/Tensorflow/workspace/images/collectedimages/down\\down.04c9e48c-9416-11ed-bf0f-546cebcd8a24.xml\n",
      "Image:C:\\Users\\VIVEK\\OneDrive\\Desktop\\realtimesign\\TFODCourse\\Tensorflow\\workspace\\images\\collectedimages\\down\\down.09a45d42-9416-11ed-99d5-546cebcd8a24.jpg -> Annotation:C:/Users/VIVEK/OneDrive/Desktop/realtimesign/TFODCourse/Tensorflow/workspace/images/collectedimages/down\\down.09a45d42-9416-11ed-99d5-546cebcd8a24.xml\n",
      "Image:C:\\Users\\VIVEK\\OneDrive\\Desktop\\realtimesign\\TFODCourse\\Tensorflow\\workspace\\images\\collectedimages\\down\\down.10e658e4-9416-11ed-b9b2-546cebcd8a24.jpg -> Annotation:C:/Users/VIVEK/OneDrive/Desktop/realtimesign/TFODCourse/Tensorflow/workspace/images/collectedimages/down\\down.10e658e4-9416-11ed-b9b2-546cebcd8a24.xml\n",
      "Image:C:\\Users\\VIVEK\\OneDrive\\Desktop\\realtimesign\\TFODCourse\\Tensorflow\\workspace\\images\\collectedimages\\down\\down.012a95c0-9416-11ed-b8b7-546cebcd8a24.jpg -> Annotation:C:/Users/VIVEK/OneDrive/Desktop/realtimesign/TFODCourse/Tensorflow/workspace/images/collectedimages/down\\down.012a95c0-9416-11ed-b8b7-546cebcd8a24.xml\n",
      "Image:C:\\Users\\VIVEK\\OneDrive\\Desktop\\realtimesign\\TFODCourse\\Tensorflow\\workspace\\images\\collectedimages\\down\\down.15c6157d-9416-11ed-b57d-546cebcd8a24.jpg -> Annotation:C:/Users/VIVEK/OneDrive/Desktop/realtimesign/TFODCourse/Tensorflow/workspace/images/collectedimages/down\\down.15c6157d-9416-11ed-b57d-546cebcd8a24.xml\n",
      "Image:C:\\Users\\VIVEK\\OneDrive\\Desktop\\realtimesign\\TFODCourse\\Tensorflow\\workspace\\images\\collectedimages\\down\\down.16fe55a7-9416-11ed-b3f2-546cebcd8a24.jpg -> Annotation:C:/Users/VIVEK/OneDrive/Desktop/realtimesign/TFODCourse/Tensorflow/workspace/images/collectedimages/down\\down.16fe55a7-9416-11ed-b3f2-546cebcd8a24.xml\n",
      "Image:C:\\Users\\VIVEK\\OneDrive\\Desktop\\realtimesign\\TFODCourse\\Tensorflow\\workspace\\images\\collectedimages\\down\\down.086eb6f6-9416-11ed-9d97-546cebcd8a24.jpg -> Annotation:C:/Users/VIVEK/OneDrive/Desktop/realtimesign/TFODCourse/Tensorflow/workspace/images/collectedimages/down\\down.086eb6f6-9416-11ed-9d97-546cebcd8a24.xml\n",
      "Image:C:\\Users\\VIVEK\\OneDrive\\Desktop\\realtimesign\\TFODCourse\\Tensorflow\\workspace\\images\\collectedimages\\down\\down.1967ed42-9416-11ed-b5b1-546cebcd8a24.jpg -> Annotation:C:/Users/VIVEK/OneDrive/Desktop/realtimesign/TFODCourse/Tensorflow/workspace/images/collectedimages/down\\down.1967ed42-9416-11ed-b5b1-546cebcd8a24.xml\n",
      "Image:C:\\Users\\VIVEK\\OneDrive\\Desktop\\realtimesign\\TFODCourse\\Tensorflow\\workspace\\images\\collectedimages\\down\\down.03965ce3-9416-11ed-a607-546cebcd8a24.jpg -> Annotation:C:/Users/VIVEK/OneDrive/Desktop/realtimesign/TFODCourse/Tensorflow/workspace/images/collectedimages/down\\down.03965ce3-9416-11ed-a607-546cebcd8a24.xml\n",
      "Image:C:\\Users\\VIVEK\\OneDrive\\Desktop\\realtimesign\\TFODCourse\\Tensorflow\\workspace\\images\\collectedimages\\down\\down.07365a96-9416-11ed-9709-546cebcd8a24.jpg -> Annotation:C:/Users/VIVEK/OneDrive/Desktop/realtimesign/TFODCourse/Tensorflow/workspace/images/collectedimages/down\\down.07365a96-9416-11ed-9709-546cebcd8a24.xml\n",
      "Image:C:\\Users\\VIVEK\\OneDrive\\Desktop\\realtimesign\\TFODCourse\\Tensorflow\\workspace\\images\\collectedimages\\down\\down.13578f1a-9416-11ed-8522-546cebcd8a24.jpg -> Annotation:C:/Users/VIVEK/OneDrive/Desktop/realtimesign/TFODCourse/Tensorflow/workspace/images/collectedimages/down\\down.13578f1a-9416-11ed-8522-546cebcd8a24.xml\n",
      "Image:C:\\Users\\VIVEK\\OneDrive\\Desktop\\realtimesign\\TFODCourse\\Tensorflow\\workspace\\images\\collectedimages\\down\\down.18345d2a-9416-11ed-8a9b-546cebcd8a24.jpg -> Annotation:C:/Users/VIVEK/OneDrive/Desktop/realtimesign/TFODCourse/Tensorflow/workspace/images/collectedimages/down\\down.18345d2a-9416-11ed-8a9b-546cebcd8a24.xml\n",
      "Image:C:\\Users\\VIVEK\\OneDrive\\Desktop\\realtimesign\\TFODCourse\\Tensorflow\\workspace\\images\\collectedimages\\down\\down.122125e2-9416-11ed-8d4c-546cebcd8a24.jpg -> Annotation:C:/Users/VIVEK/OneDrive/Desktop/realtimesign/TFODCourse/Tensorflow/workspace/images/collectedimages/down\\down.122125e2-9416-11ed-8d4c-546cebcd8a24.xml\n",
      "Image:C:\\Users\\VIVEK\\OneDrive\\Desktop\\realtimesign\\TFODCourse\\Tensorflow\\workspace\\images\\collectedimages\\down\\down.02604019-9416-11ed-88e7-546cebcd8a24.jpg -> Annotation:C:/Users/VIVEK/OneDrive/Desktop/realtimesign/TFODCourse/Tensorflow/workspace/images/collectedimages/down\\down.02604019-9416-11ed-88e7-546cebcd8a24.xml\n",
      "Image:C:\\Users\\VIVEK\\OneDrive\\Desktop\\realtimesign\\TFODCourse\\Tensorflow\\workspace\\images\\collectedimages\\down\\down.06021118-9416-11ed-907d-546cebcd8a24.jpg -> Annotation:C:/Users/VIVEK/OneDrive/Desktop/realtimesign/TFODCourse/Tensorflow/workspace/images/collectedimages/down\\down.06021118-9416-11ed-907d-546cebcd8a24.xml\n",
      "Image:C:\\Users\\VIVEK\\OneDrive\\Desktop\\realtimesign\\TFODCourse\\Tensorflow\\workspace\\images\\collectedimages\\down\\down.14900362-9416-11ed-90f0-546cebcd8a24.jpg -> Annotation:C:/Users/VIVEK/OneDrive/Desktop/realtimesign/TFODCourse/Tensorflow/workspace/images/collectedimages/down\\down.14900362-9416-11ed-90f0-546cebcd8a24.xml\n",
      "Image:C:\\Users\\VIVEK\\OneDrive\\Desktop\\realtimesign\\TFODCourse\\Tensorflow\\workspace\\images\\collectedimages\\down\\down.fd8473d8-9415-11ed-a3df-546cebcd8a24.jpg -> Annotation:C:/Users/VIVEK/OneDrive/Desktop/realtimesign/TFODCourse/Tensorflow/workspace/images/collectedimages/down\\down.fd8473d8-9415-11ed-a3df-546cebcd8a24.xml\n",
      "Image:C:\\Users\\VIVEK\\OneDrive\\Desktop\\realtimesign\\TFODCourse\\Tensorflow\\workspace\\images\\collectedimages\\down\\down.febe044d-9415-11ed-8915-546cebcd8a24.jpg -> Annotation:C:/Users/VIVEK/OneDrive/Desktop/realtimesign/TFODCourse/Tensorflow/workspace/images/collectedimages/down\\down.febe044d-9415-11ed-8915-546cebcd8a24.xml\n",
      "Image:C:\\Users\\VIVEK\\OneDrive\\Desktop\\realtimesign\\TFODCourse\\Tensorflow\\workspace\\images\\collectedimages\\down\\down.fff45164-9415-11ed-a520-546cebcd8a24.jpg -> Annotation:C:/Users/VIVEK/OneDrive/Desktop/realtimesign/TFODCourse/Tensorflow/workspace/images/collectedimages/down\\down.fff45164-9415-11ed-a520-546cebcd8a24.xml\n",
      "Image:C:\\Users\\VIVEK\\OneDrive\\Desktop\\realtimesign\\TFODCourse\\Tensorflow\\workspace\\images\\collectedimages\\left\\left.8a6b47ea-9415-11ed-8977-546cebcd8a24.jpg -> Annotation:C:/Users/VIVEK/OneDrive/Desktop/realtimesign/TFODCourse/Tensorflow/workspace/images/collectedimages/left\\left.8a6b47ea-9415-11ed-8977-546cebcd8a24.xml\n",
      "Image:C:\\Users\\VIVEK\\OneDrive\\Desktop\\realtimesign\\TFODCourse\\Tensorflow\\workspace\\images\\collectedimages\\left\\left.8ba1aecb-9415-11ed-83db-546cebcd8a24.jpg -> Annotation:C:/Users/VIVEK/OneDrive/Desktop/realtimesign/TFODCourse/Tensorflow/workspace/images/collectedimages/left\\left.8ba1aecb-9415-11ed-83db-546cebcd8a24.xml\n",
      "Image:C:\\Users\\VIVEK\\OneDrive\\Desktop\\realtimesign\\TFODCourse\\Tensorflow\\workspace\\images\\collectedimages\\left\\left.8cd6e2b7-9415-11ed-aaa5-546cebcd8a24.jpg -> Annotation:C:/Users/VIVEK/OneDrive/Desktop/realtimesign/TFODCourse/Tensorflow/workspace/images/collectedimages/left\\left.8cd6e2b7-9415-11ed-aaa5-546cebcd8a24.xml\n",
      "Image:C:\\Users\\VIVEK\\OneDrive\\Desktop\\realtimesign\\TFODCourse\\Tensorflow\\workspace\\images\\collectedimages\\left\\left.8e0da8c7-9415-11ed-aabe-546cebcd8a24.jpg -> Annotation:C:/Users/VIVEK/OneDrive/Desktop/realtimesign/TFODCourse/Tensorflow/workspace/images/collectedimages/left\\left.8e0da8c7-9415-11ed-aabe-546cebcd8a24.xml\n",
      "Image:C:\\Users\\VIVEK\\OneDrive\\Desktop\\realtimesign\\TFODCourse\\Tensorflow\\workspace\\images\\collectedimages\\left\\left.8f463685-9415-11ed-bbd4-546cebcd8a24.jpg -> Annotation:C:/Users/VIVEK/OneDrive/Desktop/realtimesign/TFODCourse/Tensorflow/workspace/images/collectedimages/left\\left.8f463685-9415-11ed-bbd4-546cebcd8a24.xml\n",
      "Image:C:\\Users\\VIVEK\\OneDrive\\Desktop\\realtimesign\\TFODCourse\\Tensorflow\\workspace\\images\\collectedimages\\left\\left.9a2c5505-9415-11ed-b438-546cebcd8a24.jpg -> Annotation:C:/Users/VIVEK/OneDrive/Desktop/realtimesign/TFODCourse/Tensorflow/workspace/images/collectedimages/left\\left.9a2c5505-9415-11ed-b438-546cebcd8a24.xml\n",
      "Cancel creation.\n",
      "Image:C:\\Users\\VIVEK\\OneDrive\\Desktop\\realtimesign\\TFODCourse\\Tensorflow\\workspace\\images\\collectedimages\\left\\left.9b60c15f-9415-11ed-8ab5-546cebcd8a24.jpg -> Annotation:C:/Users/VIVEK/OneDrive/Desktop/realtimesign/TFODCourse/Tensorflow/workspace/images/collectedimages/left\\left.9b60c15f-9415-11ed-8ab5-546cebcd8a24.xml\n",
      "Image:C:\\Users\\VIVEK\\OneDrive\\Desktop\\realtimesign\\TFODCourse\\Tensorflow\\workspace\\images\\collectedimages\\left\\left.9c93d99e-9415-11ed-882f-546cebcd8a24.jpg -> Annotation:C:/Users/VIVEK/OneDrive/Desktop/realtimesign/TFODCourse/Tensorflow/workspace/images/collectedimages/left\\left.9c93d99e-9415-11ed-882f-546cebcd8a24.xml\n",
      "Image:C:\\Users\\VIVEK\\OneDrive\\Desktop\\realtimesign\\TFODCourse\\Tensorflow\\workspace\\images\\collectedimages\\left\\left.9dc7696e-9415-11ed-8eb7-546cebcd8a24.jpg -> Annotation:C:/Users/VIVEK/OneDrive/Desktop/realtimesign/TFODCourse/Tensorflow/workspace/images/collectedimages/left\\left.9dc7696e-9415-11ed-8eb7-546cebcd8a24.xml\n",
      "Image:C:\\Users\\VIVEK\\OneDrive\\Desktop\\realtimesign\\TFODCourse\\Tensorflow\\workspace\\images\\collectedimages\\left\\left.9efd4258-9415-11ed-b58f-546cebcd8a24.jpg -> Annotation:C:/Users/VIVEK/OneDrive/Desktop/realtimesign/TFODCourse/Tensorflow/workspace/images/collectedimages/left\\left.9efd4258-9415-11ed-b58f-546cebcd8a24.xml\n",
      "Image:C:\\Users\\VIVEK\\OneDrive\\Desktop\\realtimesign\\TFODCourse\\Tensorflow\\workspace\\images\\collectedimages\\left\\left.86c62fd5-9415-11ed-ad16-546cebcd8a24.jpg -> Annotation:C:/Users/VIVEK/OneDrive/Desktop/realtimesign/TFODCourse/Tensorflow/workspace/images/collectedimages/left\\left.86c62fd5-9415-11ed-ad16-546cebcd8a24.xml\n",
      "Image:C:\\Users\\VIVEK\\OneDrive\\Desktop\\realtimesign\\TFODCourse\\Tensorflow\\workspace\\images\\collectedimages\\left\\left.87fdc75a-9415-11ed-bf39-546cebcd8a24.jpg -> Annotation:C:/Users/VIVEK/OneDrive/Desktop/realtimesign/TFODCourse/Tensorflow/workspace/images/collectedimages/left\\left.87fdc75a-9415-11ed-bf39-546cebcd8a24.xml\n",
      "Image:C:\\Users\\VIVEK\\OneDrive\\Desktop\\realtimesign\\TFODCourse\\Tensorflow\\workspace\\images\\collectedimages\\left\\left.91afeda2-9415-11ed-9bd2-546cebcd8a24.jpg -> Annotation:C:/Users/VIVEK/OneDrive/Desktop/realtimesign/TFODCourse/Tensorflow/workspace/images/collectedimages/left\\left.91afeda2-9415-11ed-9bd2-546cebcd8a24.xml\n",
      "Image:C:\\Users\\VIVEK\\OneDrive\\Desktop\\realtimesign\\TFODCourse\\Tensorflow\\workspace\\images\\collectedimages\\left\\left.92e58e56-9415-11ed-9ecd-546cebcd8a24.jpg -> Annotation:C:/Users/VIVEK/OneDrive/Desktop/realtimesign/TFODCourse/Tensorflow/workspace/images/collectedimages/left\\left.92e58e56-9415-11ed-9ecd-546cebcd8a24.xml\n",
      "Image:C:\\Users\\VIVEK\\OneDrive\\Desktop\\realtimesign\\TFODCourse\\Tensorflow\\workspace\\images\\collectedimages\\left\\left.97be2e35-9415-11ed-82f9-546cebcd8a24.jpg -> Annotation:C:/Users/VIVEK/OneDrive/Desktop/realtimesign/TFODCourse/Tensorflow/workspace/images/collectedimages/left\\left.97be2e35-9415-11ed-82f9-546cebcd8a24.xml\n",
      "Image:C:\\Users\\VIVEK\\OneDrive\\Desktop\\realtimesign\\TFODCourse\\Tensorflow\\workspace\\images\\collectedimages\\left\\left.98f43b69-9415-11ed-a5b6-546cebcd8a24.jpg -> Annotation:C:/Users/VIVEK/OneDrive/Desktop/realtimesign/TFODCourse/Tensorflow/workspace/images/collectedimages/left\\left.98f43b69-9415-11ed-a5b6-546cebcd8a24.xml\n",
      "Image:C:\\Users\\VIVEK\\OneDrive\\Desktop\\realtimesign\\TFODCourse\\Tensorflow\\workspace\\images\\collectedimages\\left\\left.907b8a06-9415-11ed-b296-546cebcd8a24.jpg -> Annotation:C:/Users/VIVEK/OneDrive/Desktop/realtimesign/TFODCourse/Tensorflow/workspace/images/collectedimages/left\\left.907b8a06-9415-11ed-b296-546cebcd8a24.xml\n",
      "Image:C:\\Users\\VIVEK\\OneDrive\\Desktop\\realtimesign\\TFODCourse\\Tensorflow\\workspace\\images\\collectedimages\\left\\left.941b8da6-9415-11ed-808b-546cebcd8a24.jpg -> Annotation:C:/Users/VIVEK/OneDrive/Desktop/realtimesign/TFODCourse/Tensorflow/workspace/images/collectedimages/left\\left.941b8da6-9415-11ed-808b-546cebcd8a24.xml\n",
      "Image:C:\\Users\\VIVEK\\OneDrive\\Desktop\\realtimesign\\TFODCourse\\Tensorflow\\workspace\\images\\collectedimages\\left\\left.9551fd68-9415-11ed-81b8-546cebcd8a24.jpg -> Annotation:C:/Users/VIVEK/OneDrive/Desktop/realtimesign/TFODCourse/Tensorflow/workspace/images/collectedimages/left\\left.9551fd68-9415-11ed-81b8-546cebcd8a24.xml\n",
      "Image:C:\\Users\\VIVEK\\OneDrive\\Desktop\\realtimesign\\TFODCourse\\Tensorflow\\workspace\\images\\collectedimages\\left\\left.8935435c-9415-11ed-a323-546cebcd8a24.jpg -> Annotation:C:/Users/VIVEK/OneDrive/Desktop/realtimesign/TFODCourse/Tensorflow/workspace/images/collectedimages/left\\left.8935435c-9415-11ed-a323-546cebcd8a24.xml\n",
      "Image:C:\\Users\\VIVEK\\OneDrive\\Desktop\\realtimesign\\TFODCourse\\Tensorflow\\workspace\\images\\collectedimages\\left\\left.96881404-9415-11ed-bc30-546cebcd8a24.jpg -> Annotation:C:/Users/VIVEK/OneDrive/Desktop/realtimesign/TFODCourse/Tensorflow/workspace/images/collectedimages/left\\left.96881404-9415-11ed-bc30-546cebcd8a24.xml\n",
      "Image:C:\\Users\\VIVEK\\OneDrive\\Desktop\\realtimesign\\TFODCourse\\Tensorflow\\workspace\\images\\collectedimages\\left\\left.a3ceb15f-9415-11ed-8b2a-546cebcd8a24.jpg -> Annotation:C:/Users/VIVEK/OneDrive/Desktop/realtimesign/TFODCourse/Tensorflow/workspace/images/collectedimages/left\\left.a3ceb15f-9415-11ed-8b2a-546cebcd8a24.xml\n",
      "Image:C:\\Users\\VIVEK\\OneDrive\\Desktop\\realtimesign\\TFODCourse\\Tensorflow\\workspace\\images\\collectedimages\\left\\left.a29c9c91-9415-11ed-9efb-546cebcd8a24.jpg -> Annotation:C:/Users/VIVEK/OneDrive/Desktop/realtimesign/TFODCourse/Tensorflow/workspace/images/collectedimages/left\\left.a29c9c91-9415-11ed-9efb-546cebcd8a24.xml\n",
      "Image:C:\\Users\\VIVEK\\OneDrive\\Desktop\\realtimesign\\TFODCourse\\Tensorflow\\workspace\\images\\collectedimages\\left\\left.a0310dbd-9415-11ed-b7d3-546cebcd8a24.jpg -> Annotation:C:/Users/VIVEK/OneDrive/Desktop/realtimesign/TFODCourse/Tensorflow/workspace/images/collectedimages/left\\left.a0310dbd-9415-11ed-b7d3-546cebcd8a24.xml\n",
      "Image:C:\\Users\\VIVEK\\OneDrive\\Desktop\\realtimesign\\TFODCourse\\Tensorflow\\workspace\\images\\collectedimages\\left\\left.a1671fd6-9415-11ed-88e9-546cebcd8a24.jpg -> Annotation:C:/Users/VIVEK/OneDrive/Desktop/realtimesign/TFODCourse/Tensorflow/workspace/images/collectedimages/left\\left.a1671fd6-9415-11ed-88e9-546cebcd8a24.xml\n",
      "Cancel creation.\n",
      "Image:C:\\Users\\VIVEK\\OneDrive\\Desktop\\realtimesign\\TFODCourse\\Tensorflow\\workspace\\images\\collectedimages\\right\\right.ae58d328-9415-11ed-8fca-546cebcd8a24.jpg -> Annotation:C:/Users/VIVEK/OneDrive/Desktop/realtimesign/TFODCourse/Tensorflow/workspace/images/collectedimages/right\\right.ae58d328-9415-11ed-8fca-546cebcd8a24.xml\n",
      "Image:C:\\Users\\VIVEK\\OneDrive\\Desktop\\realtimesign\\TFODCourse\\Tensorflow\\workspace\\images\\collectedimages\\right\\right.af8e323e-9415-11ed-9261-546cebcd8a24.jpg -> Annotation:C:/Users/VIVEK/OneDrive/Desktop/realtimesign/TFODCourse/Tensorflow/workspace/images/collectedimages/right\\right.af8e323e-9415-11ed-9261-546cebcd8a24.xml\n",
      "Image:C:\\Users\\VIVEK\\OneDrive\\Desktop\\realtimesign\\TFODCourse\\Tensorflow\\workspace\\images\\collectedimages\\right\\right.b0c16ca3-9415-11ed-a7d8-546cebcd8a24.jpg -> Annotation:C:/Users/VIVEK/OneDrive/Desktop/realtimesign/TFODCourse/Tensorflow/workspace/images/collectedimages/right\\right.b0c16ca3-9415-11ed-a7d8-546cebcd8a24.xml\n",
      "Image:C:\\Users\\VIVEK\\OneDrive\\Desktop\\realtimesign\\TFODCourse\\Tensorflow\\workspace\\images\\collectedimages\\right\\right.b1f7d3e5-9415-11ed-b977-546cebcd8a24.jpg -> Annotation:C:/Users/VIVEK/OneDrive/Desktop/realtimesign/TFODCourse/Tensorflow/workspace/images/collectedimages/right\\right.b1f7d3e5-9415-11ed-b977-546cebcd8a24.xml\n",
      "Image:C:\\Users\\VIVEK\\OneDrive\\Desktop\\realtimesign\\TFODCourse\\Tensorflow\\workspace\\images\\collectedimages\\right\\right.b6d2256c-9415-11ed-a8be-546cebcd8a24.jpg -> Annotation:C:/Users/VIVEK/OneDrive/Desktop/realtimesign/TFODCourse/Tensorflow/workspace/images/collectedimages/right\\right.b6d2256c-9415-11ed-a8be-546cebcd8a24.xml\n",
      "Cancel creation.\n",
      "Image:C:\\Users\\VIVEK\\OneDrive\\Desktop\\realtimesign\\TFODCourse\\Tensorflow\\workspace\\images\\collectedimages\\right\\right.b32cd086-9415-11ed-8bd8-546cebcd8a24.jpg -> Annotation:C:/Users/VIVEK/OneDrive/Desktop/realtimesign/TFODCourse/Tensorflow/workspace/images/collectedimages/right\\right.b32cd086-9415-11ed-8bd8-546cebcd8a24.xml\n",
      "Image:C:\\Users\\VIVEK\\OneDrive\\Desktop\\realtimesign\\TFODCourse\\Tensorflow\\workspace\\images\\collectedimages\\right\\right.b93b748e-9415-11ed-bf82-546cebcd8a24.jpg -> Annotation:C:/Users/VIVEK/OneDrive/Desktop/realtimesign/TFODCourse/Tensorflow/workspace/images/collectedimages/right\\right.b93b748e-9415-11ed-bf82-546cebcd8a24.xml\n",
      "Image:C:\\Users\\VIVEK\\OneDrive\\Desktop\\realtimesign\\TFODCourse\\Tensorflow\\workspace\\images\\collectedimages\\right\\right.b805b10f-9415-11ed-9487-546cebcd8a24.jpg -> Annotation:C:/Users/VIVEK/OneDrive/Desktop/realtimesign/TFODCourse/Tensorflow/workspace/images/collectedimages/right\\right.b805b10f-9415-11ed-9487-546cebcd8a24.xml\n",
      "Image:C:\\Users\\VIVEK\\OneDrive\\Desktop\\realtimesign\\TFODCourse\\Tensorflow\\workspace\\images\\collectedimages\\right\\right.b4630d9f-9415-11ed-985c-546cebcd8a24.jpg -> Annotation:C:/Users/VIVEK/OneDrive/Desktop/realtimesign/TFODCourse/Tensorflow/workspace/images/collectedimages/right\\right.b4630d9f-9415-11ed-985c-546cebcd8a24.xml\n",
      "Image:C:\\Users\\VIVEK\\OneDrive\\Desktop\\realtimesign\\TFODCourse\\Tensorflow\\workspace\\images\\collectedimages\\right\\right.b5997920-9415-11ed-b2ce-546cebcd8a24.jpg -> Annotation:C:/Users/VIVEK/OneDrive/Desktop/realtimesign/TFODCourse/Tensorflow/workspace/images/collectedimages/right\\right.b5997920-9415-11ed-b2ce-546cebcd8a24.xml\n",
      "Image:C:\\Users\\VIVEK\\OneDrive\\Desktop\\realtimesign\\TFODCourse\\Tensorflow\\workspace\\images\\collectedimages\\right\\right.ba6f560b-9415-11ed-9d72-546cebcd8a24.jpg -> Annotation:C:/Users/VIVEK/OneDrive/Desktop/realtimesign/TFODCourse/Tensorflow/workspace/images/collectedimages/right\\right.ba6f560b-9415-11ed-9d72-546cebcd8a24.xml\n",
      "Image:C:\\Users\\VIVEK\\OneDrive\\Desktop\\realtimesign\\TFODCourse\\Tensorflow\\workspace\\images\\collectedimages\\right\\right.bba56100-9415-11ed-8fad-546cebcd8a24.jpg -> Annotation:C:/Users/VIVEK/OneDrive/Desktop/realtimesign/TFODCourse/Tensorflow/workspace/images/collectedimages/right\\right.bba56100-9415-11ed-8fad-546cebcd8a24.xml\n",
      "Image:C:\\Users\\VIVEK\\OneDrive\\Desktop\\realtimesign\\TFODCourse\\Tensorflow\\workspace\\images\\collectedimages\\right\\right.bcdb92dd-9415-11ed-8459-546cebcd8a24.jpg -> Annotation:C:/Users/VIVEK/OneDrive/Desktop/realtimesign/TFODCourse/Tensorflow/workspace/images/collectedimages/right\\right.bcdb92dd-9415-11ed-8459-546cebcd8a24.xml\n",
      "Image:C:\\Users\\VIVEK\\OneDrive\\Desktop\\realtimesign\\TFODCourse\\Tensorflow\\workspace\\images\\collectedimages\\right\\right.be10c692-9415-11ed-a1bd-546cebcd8a24.jpg -> Annotation:C:/Users/VIVEK/OneDrive/Desktop/realtimesign/TFODCourse/Tensorflow/workspace/images/collectedimages/right\\right.be10c692-9415-11ed-a1bd-546cebcd8a24.xml\n",
      "Image:C:\\Users\\VIVEK\\OneDrive\\Desktop\\realtimesign\\TFODCourse\\Tensorflow\\workspace\\images\\collectedimages\\right\\right.bf45248a-9415-11ed-a1cc-546cebcd8a24.jpg -> Annotation:C:/Users/VIVEK/OneDrive/Desktop/realtimesign/TFODCourse/Tensorflow/workspace/images/collectedimages/right\\right.bf45248a-9415-11ed-a1cc-546cebcd8a24.xml\n",
      "Image:C:\\Users\\VIVEK\\OneDrive\\Desktop\\realtimesign\\TFODCourse\\Tensorflow\\workspace\\images\\collectedimages\\right\\right.c1b125ae-9415-11ed-8ae3-546cebcd8a24.jpg -> Annotation:C:/Users/VIVEK/OneDrive/Desktop/realtimesign/TFODCourse/Tensorflow/workspace/images/collectedimages/right\\right.c1b125ae-9415-11ed-8ae3-546cebcd8a24.xml\n",
      "Image:C:\\Users\\VIVEK\\OneDrive\\Desktop\\realtimesign\\TFODCourse\\Tensorflow\\workspace\\images\\collectedimages\\right\\right.c2e74404-9415-11ed-a3d0-546cebcd8a24.jpg -> Annotation:C:/Users/VIVEK/OneDrive/Desktop/realtimesign/TFODCourse/Tensorflow/workspace/images/collectedimages/right\\right.c2e74404-9415-11ed-a3d0-546cebcd8a24.xml\n",
      "Image:C:\\Users\\VIVEK\\OneDrive\\Desktop\\realtimesign\\TFODCourse\\Tensorflow\\workspace\\images\\collectedimages\\right\\right.c07aded9-9415-11ed-b3f2-546cebcd8a24.jpg -> Annotation:C:/Users/VIVEK/OneDrive/Desktop/realtimesign/TFODCourse/Tensorflow/workspace/images/collectedimages/right\\right.c07aded9-9415-11ed-b3f2-546cebcd8a24.xml\n",
      "Image:C:\\Users\\VIVEK\\OneDrive\\Desktop\\realtimesign\\TFODCourse\\Tensorflow\\workspace\\images\\collectedimages\\right\\right.c7bf2f90-9415-11ed-a1b2-546cebcd8a24.jpg -> Annotation:C:/Users/VIVEK/OneDrive/Desktop/realtimesign/TFODCourse/Tensorflow/workspace/images/collectedimages/right\\right.c7bf2f90-9415-11ed-a1b2-546cebcd8a24.xml\n",
      "Image:C:\\Users\\VIVEK\\OneDrive\\Desktop\\realtimesign\\TFODCourse\\Tensorflow\\workspace\\images\\collectedimages\\right\\right.c8f329b8-9415-11ed-bdb3-546cebcd8a24.jpg -> Annotation:C:/Users/VIVEK/OneDrive/Desktop/realtimesign/TFODCourse/Tensorflow/workspace/images/collectedimages/right\\right.c8f329b8-9415-11ed-bdb3-546cebcd8a24.xml\n",
      "Cancel creation.\n",
      "Image:C:\\Users\\VIVEK\\OneDrive\\Desktop\\realtimesign\\TFODCourse\\Tensorflow\\workspace\\images\\collectedimages\\right\\right.c41a9b71-9415-11ed-a841-546cebcd8a24.jpg -> Annotation:C:/Users/VIVEK/OneDrive/Desktop/realtimesign/TFODCourse/Tensorflow/workspace/images/collectedimages/right\\right.c41a9b71-9415-11ed-a841-546cebcd8a24.xml\n",
      "Image:C:\\Users\\VIVEK\\OneDrive\\Desktop\\realtimesign\\TFODCourse\\Tensorflow\\workspace\\images\\collectedimages\\right\\right.c550febd-9415-11ed-aebe-546cebcd8a24.jpg -> Annotation:C:/Users/VIVEK/OneDrive/Desktop/realtimesign/TFODCourse/Tensorflow/workspace/images/collectedimages/right\\right.c550febd-9415-11ed-aebe-546cebcd8a24.xml\n",
      "Image:C:\\Users\\VIVEK\\OneDrive\\Desktop\\realtimesign\\TFODCourse\\Tensorflow\\workspace\\images\\collectedimages\\right\\right.c686f4e7-9415-11ed-bc4a-546cebcd8a24.jpg -> Annotation:C:/Users/VIVEK/OneDrive/Desktop/realtimesign/TFODCourse/Tensorflow/workspace/images/collectedimages/right\\right.c686f4e7-9415-11ed-bc4a-546cebcd8a24.xml\n",
      "Image:C:\\Users\\VIVEK\\OneDrive\\Desktop\\realtimesign\\TFODCourse\\Tensorflow\\workspace\\images\\collectedimages\\right\\right.ca27c83e-9415-11ed-b068-546cebcd8a24.jpg -> Annotation:C:/Users/VIVEK/OneDrive/Desktop/realtimesign/TFODCourse/Tensorflow/workspace/images/collectedimages/right\\right.ca27c83e-9415-11ed-b068-546cebcd8a24.xml\n",
      "Cancel creation.\n",
      "Image:C:\\Users\\VIVEK\\OneDrive\\Desktop\\realtimesign\\TFODCourse\\Tensorflow\\workspace\\images\\collectedimages\\right\\right.cb5f3bac-9415-11ed-bc14-546cebcd8a24.jpg -> Annotation:C:/Users/VIVEK/OneDrive/Desktop/realtimesign/TFODCourse/Tensorflow/workspace/images/collectedimages/right\\right.cb5f3bac-9415-11ed-bc14-546cebcd8a24.xml\n",
      "Image:C:\\Users\\VIVEK\\OneDrive\\Desktop\\realtimesign\\TFODCourse\\Tensorflow\\workspace\\images\\collectedimages\\up\\up.d5edc896-9415-11ed-a92b-546cebcd8a24.jpg -> Annotation:C:/Users/VIVEK/OneDrive/Desktop/realtimesign/TFODCourse/Tensorflow/workspace/images/collectedimages/up\\up.d5edc896-9415-11ed-a92b-546cebcd8a24.xml\n",
      "Image:C:\\Users\\VIVEK\\OneDrive\\Desktop\\realtimesign\\TFODCourse\\Tensorflow\\workspace\\images\\collectedimages\\up\\up.d98eab8d-9415-11ed-b2fc-546cebcd8a24.jpg -> Annotation:C:/Users/VIVEK/OneDrive/Desktop/realtimesign/TFODCourse/Tensorflow/workspace/images/collectedimages/up\\up.d98eab8d-9415-11ed-b2fc-546cebcd8a24.xml\n",
      "Image:C:\\Users\\VIVEK\\OneDrive\\Desktop\\realtimesign\\TFODCourse\\Tensorflow\\workspace\\images\\collectedimages\\up\\up.d8582c55-9415-11ed-a746-546cebcd8a24.jpg -> Annotation:C:/Users/VIVEK/OneDrive/Desktop/realtimesign/TFODCourse/Tensorflow/workspace/images/collectedimages/up\\up.d8582c55-9415-11ed-a746-546cebcd8a24.xml\n",
      "Image:C:\\Users\\VIVEK\\OneDrive\\Desktop\\realtimesign\\TFODCourse\\Tensorflow\\workspace\\images\\collectedimages\\up\\up.d72461a7-9415-11ed-b764-546cebcd8a24.jpg -> Annotation:C:/Users/VIVEK/OneDrive/Desktop/realtimesign/TFODCourse/Tensorflow/workspace/images/collectedimages/up\\up.d72461a7-9415-11ed-b764-546cebcd8a24.xml\n",
      "Image:C:\\Users\\VIVEK\\OneDrive\\Desktop\\realtimesign\\TFODCourse\\Tensorflow\\workspace\\images\\collectedimages\\up\\up.dac64e08-9415-11ed-ab4c-546cebcd8a24.jpg -> Annotation:C:/Users/VIVEK/OneDrive/Desktop/realtimesign/TFODCourse/Tensorflow/workspace/images/collectedimages/up\\up.dac64e08-9415-11ed-ab4c-546cebcd8a24.xml\n",
      "Image:C:\\Users\\VIVEK\\OneDrive\\Desktop\\realtimesign\\TFODCourse\\Tensorflow\\workspace\\images\\collectedimages\\up\\up.dbfc5107-9415-11ed-9918-546cebcd8a24.jpg -> Annotation:C:/Users/VIVEK/OneDrive/Desktop/realtimesign/TFODCourse/Tensorflow/workspace/images/collectedimages/up\\up.dbfc5107-9415-11ed-9918-546cebcd8a24.xml\n",
      "Image:C:\\Users\\VIVEK\\OneDrive\\Desktop\\realtimesign\\TFODCourse\\Tensorflow\\workspace\\images\\collectedimages\\up\\up.dd30ab76-9415-11ed-9dee-546cebcd8a24.jpg -> Annotation:C:/Users/VIVEK/OneDrive/Desktop/realtimesign/TFODCourse/Tensorflow/workspace/images/collectedimages/up\\up.dd30ab76-9415-11ed-9dee-546cebcd8a24.xml\n",
      "Image:C:\\Users\\VIVEK\\OneDrive\\Desktop\\realtimesign\\TFODCourse\\Tensorflow\\workspace\\images\\collectedimages\\up\\up.de68ccd3-9415-11ed-83b1-546cebcd8a24.jpg -> Annotation:C:/Users/VIVEK/OneDrive/Desktop/realtimesign/TFODCourse/Tensorflow/workspace/images/collectedimages/up\\up.de68ccd3-9415-11ed-83b1-546cebcd8a24.xml\n",
      "Image:C:\\Users\\VIVEK\\OneDrive\\Desktop\\realtimesign\\TFODCourse\\Tensorflow\\workspace\\images\\collectedimages\\up\\up.df9f1430-9415-11ed-b3c2-546cebcd8a24.jpg -> Annotation:C:/Users/VIVEK/OneDrive/Desktop/realtimesign/TFODCourse/Tensorflow/workspace/images/collectedimages/up\\up.df9f1430-9415-11ed-b3c2-546cebcd8a24.xml\n",
      "Image:C:\\Users\\VIVEK\\OneDrive\\Desktop\\realtimesign\\TFODCourse\\Tensorflow\\workspace\\images\\collectedimages\\up\\up.e0d54e0f-9415-11ed-8f1c-546cebcd8a24.jpg -> Annotation:C:/Users/VIVEK/OneDrive/Desktop/realtimesign/TFODCourse/Tensorflow/workspace/images/collectedimages/up\\up.e0d54e0f-9415-11ed-8f1c-546cebcd8a24.xml\n",
      "Image:C:\\Users\\VIVEK\\OneDrive\\Desktop\\realtimesign\\TFODCourse\\Tensorflow\\workspace\\images\\collectedimages\\up\\up.e5aac6e7-9415-11ed-aaf0-546cebcd8a24.jpg -> Annotation:C:/Users/VIVEK/OneDrive/Desktop/realtimesign/TFODCourse/Tensorflow/workspace/images/collectedimages/up\\up.e5aac6e7-9415-11ed-aaf0-546cebcd8a24.xml\n",
      "Image:C:\\Users\\VIVEK\\OneDrive\\Desktop\\realtimesign\\TFODCourse\\Tensorflow\\workspace\\images\\collectedimages\\up\\up.e6e03152-9415-11ed-ae9b-546cebcd8a24.jpg -> Annotation:C:/Users/VIVEK/OneDrive/Desktop/realtimesign/TFODCourse/Tensorflow/workspace/images/collectedimages/up\\up.e6e03152-9415-11ed-ae9b-546cebcd8a24.xml\n",
      "Image:C:\\Users\\VIVEK\\OneDrive\\Desktop\\realtimesign\\TFODCourse\\Tensorflow\\workspace\\images\\collectedimages\\up\\up.e33ec9af-9415-11ed-9260-546cebcd8a24.jpg -> Annotation:C:/Users/VIVEK/OneDrive/Desktop/realtimesign/TFODCourse/Tensorflow/workspace/images/collectedimages/up\\up.e33ec9af-9415-11ed-9260-546cebcd8a24.xml\n",
      "Image:C:\\Users\\VIVEK\\OneDrive\\Desktop\\realtimesign\\TFODCourse\\Tensorflow\\workspace\\images\\collectedimages\\up\\up.e94a6227-9415-11ed-b971-546cebcd8a24.jpg -> Annotation:C:/Users/VIVEK/OneDrive/Desktop/realtimesign/TFODCourse/Tensorflow/workspace/images/collectedimages/up\\up.e94a6227-9415-11ed-b971-546cebcd8a24.xml\n",
      "Image:C:\\Users\\VIVEK\\OneDrive\\Desktop\\realtimesign\\TFODCourse\\Tensorflow\\workspace\\images\\collectedimages\\up\\up.e208e833-9415-11ed-8bb7-546cebcd8a24.jpg -> Annotation:C:/Users/VIVEK/OneDrive/Desktop/realtimesign/TFODCourse/Tensorflow/workspace/images/collectedimages/up\\up.e208e833-9415-11ed-8bb7-546cebcd8a24.xml\n",
      "Image:C:\\Users\\VIVEK\\OneDrive\\Desktop\\realtimesign\\TFODCourse\\Tensorflow\\workspace\\images\\collectedimages\\up\\up.e474db3e-9415-11ed-ab29-546cebcd8a24.jpg -> Annotation:C:/Users/VIVEK/OneDrive/Desktop/realtimesign/TFODCourse/Tensorflow/workspace/images/collectedimages/up\\up.e474db3e-9415-11ed-ab29-546cebcd8a24.xml\n",
      "Image:C:\\Users\\VIVEK\\OneDrive\\Desktop\\realtimesign\\TFODCourse\\Tensorflow\\workspace\\images\\collectedimages\\up\\up.e8148a73-9415-11ed-b109-546cebcd8a24.jpg -> Annotation:C:/Users/VIVEK/OneDrive/Desktop/realtimesign/TFODCourse/Tensorflow/workspace/images/collectedimages/up\\up.e8148a73-9415-11ed-b109-546cebcd8a24.xml\n",
      "Image:C:\\Users\\VIVEK\\OneDrive\\Desktop\\realtimesign\\TFODCourse\\Tensorflow\\workspace\\images\\collectedimages\\up\\up.ea802431-9415-11ed-927c-546cebcd8a24.jpg -> Annotation:C:/Users/VIVEK/OneDrive/Desktop/realtimesign/TFODCourse/Tensorflow/workspace/images/collectedimages/up\\up.ea802431-9415-11ed-927c-546cebcd8a24.xml\n",
      "Image:C:\\Users\\VIVEK\\OneDrive\\Desktop\\realtimesign\\TFODCourse\\Tensorflow\\workspace\\images\\collectedimages\\up\\up.ebb67ce9-9415-11ed-911c-546cebcd8a24.jpg -> Annotation:C:/Users/VIVEK/OneDrive/Desktop/realtimesign/TFODCourse/Tensorflow/workspace/images/collectedimages/up\\up.ebb67ce9-9415-11ed-911c-546cebcd8a24.xml\n",
      "Image:C:\\Users\\VIVEK\\OneDrive\\Desktop\\realtimesign\\TFODCourse\\Tensorflow\\workspace\\images\\collectedimages\\up\\up.eceea27b-9415-11ed-9e02-546cebcd8a24.jpg -> Annotation:C:/Users/VIVEK/OneDrive/Desktop/realtimesign/TFODCourse/Tensorflow/workspace/images/collectedimages/up\\up.eceea27b-9415-11ed-9e02-546cebcd8a24.xml\n",
      "Image:C:\\Users\\VIVEK\\OneDrive\\Desktop\\realtimesign\\TFODCourse\\Tensorflow\\workspace\\images\\collectedimages\\up\\up.ee20a83e-9415-11ed-9f6e-546cebcd8a24.jpg -> Annotation:C:/Users/VIVEK/OneDrive/Desktop/realtimesign/TFODCourse/Tensorflow/workspace/images/collectedimages/up\\up.ee20a83e-9415-11ed-9f6e-546cebcd8a24.xml\n",
      "Image:C:\\Users\\VIVEK\\OneDrive\\Desktop\\realtimesign\\TFODCourse\\Tensorflow\\workspace\\images\\collectedimages\\up\\up.ef5667be-9415-11ed-9483-546cebcd8a24.jpg -> Annotation:C:/Users/VIVEK/OneDrive/Desktop/realtimesign/TFODCourse/Tensorflow/workspace/images/collectedimages/up\\up.ef5667be-9415-11ed-9483-546cebcd8a24.xml\n",
      "Image:C:\\Users\\VIVEK\\OneDrive\\Desktop\\realtimesign\\TFODCourse\\Tensorflow\\workspace\\images\\collectedimages\\up\\up.f1c2a195-9415-11ed-b147-546cebcd8a24.jpg -> Annotation:C:/Users/VIVEK/OneDrive/Desktop/realtimesign/TFODCourse/Tensorflow/workspace/images/collectedimages/up\\up.f1c2a195-9415-11ed-b147-546cebcd8a24.xml\n",
      "Image:C:\\Users\\VIVEK\\OneDrive\\Desktop\\realtimesign\\TFODCourse\\Tensorflow\\workspace\\images\\collectedimages\\up\\up.f2fb0fc6-9415-11ed-a2a8-546cebcd8a24.jpg -> Annotation:C:/Users/VIVEK/OneDrive/Desktop/realtimesign/TFODCourse/Tensorflow/workspace/images/collectedimages/up\\up.f2fb0fc6-9415-11ed-a2a8-546cebcd8a24.xml\n",
      "Image:C:\\Users\\VIVEK\\OneDrive\\Desktop\\realtimesign\\TFODCourse\\Tensorflow\\workspace\\images\\collectedimages\\up\\up.f08c8ec0-9415-11ed-b0db-546cebcd8a24.jpg -> Annotation:C:/Users/VIVEK/OneDrive/Desktop/realtimesign/TFODCourse/Tensorflow/workspace/images/collectedimages/up\\up.f08c8ec0-9415-11ed-b0db-546cebcd8a24.xml\n"
     ]
    }
   ],
   "source": [
    "!cd {LABELIMG_PATH} && python labelImg.py"
   ]
  },
  {
   "cell_type": "markdown",
   "metadata": {},
   "source": [
    "# 6. Move them into a Training and Testing Partition"
   ]
  },
  {
   "cell_type": "markdown",
   "metadata": {},
   "source": [
    "# OPTIONAL - 7. Compress them for Colab Training"
   ]
  },
  {
   "cell_type": "code",
   "execution_count": 20,
   "metadata": {},
   "outputs": [],
   "source": [
    "TRAIN_PATH = os.path.join('Tensorflow', 'workspace', 'images', 'train')\n",
    "TEST_PATH = os.path.join('Tensorflow', 'workspace', 'images', 'test')\n",
    "ARCHIVE_PATH = os.path.join('Tensorflow', 'workspace', 'images', 'archive.tar.gz')"
   ]
  },
  {
   "cell_type": "code",
   "execution_count": 21,
   "metadata": {},
   "outputs": [],
   "source": [
    "!tar -czf {ARCHIVE_PATH} {TRAIN_PATH} {TEST_PATH}"
   ]
  },
  {
   "cell_type": "code",
   "execution_count": null,
   "metadata": {},
   "outputs": [],
   "source": []
  }
 ],
 "metadata": {
  "kernelspec": {
   "display_name": "rtfod",
   "language": "python",
   "name": "rtfod"
  },
  "language_info": {
   "codemirror_mode": {
    "name": "ipython",
    "version": 3
   },
   "file_extension": ".py",
   "mimetype": "text/x-python",
   "name": "python",
   "nbconvert_exporter": "python",
   "pygments_lexer": "ipython3",
   "version": "3.9.13"
  }
 },
 "nbformat": 4,
 "nbformat_minor": 2
}
